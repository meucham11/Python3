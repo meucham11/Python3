{
 "cells": [
  {
   "cell_type": "markdown",
   "metadata": {},
   "source": [
    "https://www.hackerrank.com/challenges/2d-array/problem?h_r=next-challenge&h_v=zen"
   ]
  },
  {
   "cell_type": "code",
   "execution_count": 60,
   "metadata": {},
   "outputs": [
    {
     "name": "stdout",
     "output_type": "stream",
     "text": [
      "31\n"
     ]
    }
   ],
   "source": [
    "#!/bin/python3\n",
    "\n",
    "import math\n",
    "import os\n",
    "import random\n",
    "import re\n",
    "import sys\n",
    "\n",
    "# Complete the hourglassSum function below.\n",
    "def hourglassSum(arr):\n",
    "    result=[]\n",
    "\n",
    "    for row in range(len(arr)-2):\n",
    "        for col in range(0,len(arr[0])-2):\n",
    "            tot=sum(arr[row][col:col+3])+arr[row+1][col+1]+sum(arr[row+2][col:col+3])\n",
    "            result.append(tot)\n",
    "    \n",
    "    print(max(result))\n",
    "    return result\n",
    "\n",
    "'''\n",
    "arr = []\n",
    "\n",
    "for _ in range(6):\n",
    "    arr.append(list(map(int, input().rstrip().split())))\n",
    "'''\n",
    "arr=[[-9, -9, 1, 0, 3, 0],\n",
    "     [0, 1, 0, 3, 4, 0],\n",
    "     [1, 1, 1, 0, 0, 0],\n",
    "     [7, 0, 5, -6, 6, 8],\n",
    "     [6, 0, -1, 1, 1, 9],\n",
    "     [8, 11, 0, 7, 4, 1]]\n",
    "    \n",
    "    \n",
    "\n",
    "result = hourglassSum(arr)\n"
   ]
  },
  {
   "cell_type": "markdown",
   "metadata": {},
   "source": [
    "나아가 max에 해당하는 패턴의 값들을 출력해보자"
   ]
  },
  {
   "cell_type": "code",
   "execution_count": 61,
   "metadata": {},
   "outputs": [
    {
     "data": {
      "text/plain": [
       "[-13, -6, 8, 7, 14, 4, 12, 15, 8, 7, -4, 17, 31, 16, 17, 21]"
      ]
     },
     "execution_count": 61,
     "metadata": {},
     "output_type": "execute_result"
    }
   ],
   "source": [
    "result"
   ]
  },
  {
   "cell_type": "code",
   "execution_count": 64,
   "metadata": {},
   "outputs": [],
   "source": [
    "max_index=result.index(max(result))\n"
   ]
  },
  {
   "cell_type": "code",
   "execution_count": 76,
   "metadata": {},
   "outputs": [],
   "source": [
    "row_index=int(max_index/4)\n",
    "col_index=max_index%4"
   ]
  },
  {
   "cell_type": "code",
   "execution_count": 82,
   "metadata": {},
   "outputs": [
    {
     "name": "stdout",
     "output_type": "stream",
     "text": [
      "[7, 0, 5]\n",
      "    0\n",
      "[8, 11, 0]\n"
     ]
    }
   ],
   "source": [
    "print(arr[row_index][col_index:col_index+3])\n",
    "print(\"   \",arr[row_index+1][col_index+1])\n",
    "print(arr[row_index+2][col_index:col_index+3])"
   ]
  }
 ],
 "metadata": {
  "kernelspec": {
   "display_name": "Python 3",
   "language": "python",
   "name": "python3"
  },
  "language_info": {
   "codemirror_mode": {
    "name": "ipython",
    "version": 3
   },
   "file_extension": ".py",
   "mimetype": "text/x-python",
   "name": "python",
   "nbconvert_exporter": "python",
   "pygments_lexer": "ipython3",
   "version": "3.7.6"
  }
 },
 "nbformat": 4,
 "nbformat_minor": 4
}
