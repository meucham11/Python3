{
 "cells": [
  {
   "cell_type": "markdown",
   "metadata": {},
   "source": [
    "https://www.hackerrank.com/challenges/sparse-arrays/problem?h_r=next-challenge&h_v=zen"
   ]
  },
  {
   "cell_type": "code",
   "execution_count": 1,
   "metadata": {},
   "outputs": [],
   "source": [
    "def matchingStrings(s, q):\n",
    "    for i in range(len(q)):\n",
    "        cnt=0\n",
    "        for j in range(len(s)):\n",
    "            if s[j]==q[i]:\n",
    "                cnt+=1\n",
    "        print(cnt)"
   ]
  },
  {
   "cell_type": "code",
   "execution_count": 2,
   "metadata": {},
   "outputs": [
    {
     "name": "stdout",
     "output_type": "stream",
     "text": [
      "13\n",
      "abcde\n",
      "sdaklfj\n",
      "asdjf\n",
      "na\n",
      "basdn\n",
      "sdaklfj\n",
      "asdjf\n",
      "na\n",
      "asdjf\n",
      "na\n",
      "basdn\n",
      "sdaklfj\n",
      "asdjf\n",
      "5\n",
      "abcde\n",
      "sdaklfj\n",
      "asdjf\n",
      "na\n",
      "basdn\n",
      "1\n",
      "3\n",
      "4\n",
      "3\n",
      "2\n"
     ]
    }
   ],
   "source": [
    "strings_count = int(input())\n",
    "\n",
    "strings = []\n",
    "\n",
    "for _ in range(strings_count):\n",
    "    strings_item = input()\n",
    "    strings.append(strings_item)\n",
    "\n",
    "queries_count = int(input())\n",
    "\n",
    "queries = []\n",
    "\n",
    "for _ in range(queries_count):\n",
    "    queries_item = input()\n",
    "    queries.append(queries_item)\n",
    "\n",
    "res = matchingStrings(strings, queries)"
   ]
  },
  {
   "cell_type": "code",
   "execution_count": 5,
   "metadata": {},
   "outputs": [
    {
     "name": "stdout",
     "output_type": "stream",
     "text": [
      "0\n",
      "0\n"
     ]
    }
   ],
   "source": [
    "13\n",
    "abcde\n",
    "sdaklfj\n",
    "asdjf\n",
    "na\n",
    "basdn\n",
    "sdaklfj\n",
    "asdjf\n",
    "na\n",
    "asdjf\n",
    "na\n",
    "basdn\n",
    "sdaklfj\n",
    "asdjf\n",
    "5\n",
    "abcde\n",
    "sdaklfj\n",
    "asdjf\n",
    "na\n",
    "basdn"
   ]
  },
  {
   "cell_type": "code",
   "execution_count": 5,
   "metadata": {},
   "outputs": [],
   "source": [
    "strings=['abcde',\n",
    " 'sdaklfj',\n",
    " 'asdjf',\n",
    " 'na',\n",
    " 'basdn',\n",
    " 'sdaklfj',\n",
    " 'asdjf',\n",
    " 'na',\n",
    " 'asdjf',\n",
    " 'na',\n",
    " 'basdn',\n",
    " 'sdaklfj',\n",
    " 'asdjf']"
   ]
  },
  {
   "cell_type": "code",
   "execution_count": 6,
   "metadata": {},
   "outputs": [],
   "source": [
    "queries=['abcde', 'sdaklfj', 'asdjf', 'na', 'basdn']\n"
   ]
  }
 ],
 "metadata": {
  "kernelspec": {
   "display_name": "Python 3",
   "language": "python",
   "name": "python3"
  },
  "language_info": {
   "codemirror_mode": {
    "name": "ipython",
    "version": 3
   },
   "file_extension": ".py",
   "mimetype": "text/x-python",
   "name": "python",
   "nbconvert_exporter": "python",
   "pygments_lexer": "ipython3",
   "version": "3.7.6"
  }
 },
 "nbformat": 4,
 "nbformat_minor": 4
}
